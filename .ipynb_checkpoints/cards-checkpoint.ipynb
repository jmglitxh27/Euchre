{
 "cells": [
  {
   "cell_type": "code",
   "execution_count": null,
   "id": "3b85f1b0-2077-4a65-83e8-962d497e21d9",
   "metadata": {},
   "outputs": [
    {
     "name": "stdout",
     "output_type": "stream",
     "text": [
      "Player 1 is dealer\n",
      "('Clubs', 'Jack')\n",
      "1. Trump      2. Pass\n"
     ]
    }
   ],
   "source": [
    "from cardv1 import cardlib, ai\n",
    "\n",
    "# Create deck for Euchre\n",
    "\n",
    "def decide_Dealer(round, player1, player2, player3, player4):\n",
    "    if round == 1:\n",
    "        player1.set_Dealer()\n",
    "        print(\"Player 1 is dealer\")\n",
    "    if round == 2:\n",
    "        player2.set_Dealer()\n",
    "        print(\"Player 2 is dealer\")\n",
    "    if round == 3:\n",
    "        player3.set_Dealer()\n",
    "        print(\"Player 3 is dealer\")\n",
    "    if round == 4:\n",
    "        player4.set_Dealer()\n",
    "        print(\"Player 4 is dealer\")\n",
    "\n",
    "def create_Players(deck1, deck2, deck3, deck4):\n",
    "    player1 = ai.Player(deck1, False)\n",
    "    player2 = ai.Player(deck2, False)\n",
    "    player3 = ai.Player(deck3, False)\n",
    "    player4 = ai.Player(deck4, False)\n",
    "\n",
    "    return player1, player2, player3, player4 \n",
    "    \n",
    "def deal_all_cards():\n",
    "    init_cards = cardlib.Deck(\"Euchre\")\n",
    "    # Deal cards\n",
    "    deck1, deck2, deck3, deck4, rest = init_cards.deal_cards()\n",
    "    \n",
    "    placed_cards = cardlib.Deck(\"Euchre\")\n",
    "    \n",
    "    play_game = True\n",
    "    player1, player2, player3, player4 = create_Players(deck1, deck2, deck3, deck4)\n",
    "    \n",
    "    while play_game:\n",
    "        for round in range(1, 5):\n",
    "            decide_Dealer(round, player1, player2, player3, player4)\n",
    "            rest.place_card(0)\n",
    "            print(\"1. Trump      2. Pass\")\n",
    "            decide = int(input(\"What would you like to do?: \"))\n",
    "            \n",
    "\n",
    "\n",
    "deal_all_cards()\n",
    "            \n",
    "            "
   ]
  },
  {
   "cell_type": "code",
   "execution_count": null,
   "id": "4f098aca-ae5c-4436-99c1-2aa55a23123c",
   "metadata": {},
   "outputs": [],
   "source": []
  }
 ],
 "metadata": {
  "kernelspec": {
   "display_name": "Python 3 (ipykernel)",
   "language": "python",
   "name": "python3"
  },
  "language_info": {
   "codemirror_mode": {
    "name": "ipython",
    "version": 3
   },
   "file_extension": ".py",
   "mimetype": "text/x-python",
   "name": "python",
   "nbconvert_exporter": "python",
   "pygments_lexer": "ipython3",
   "version": "3.10.8"
  }
 },
 "nbformat": 4,
 "nbformat_minor": 5
}
