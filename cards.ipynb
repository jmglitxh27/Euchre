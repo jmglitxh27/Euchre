{
 "cells": [
  {
   "cell_type": "code",
   "execution_count": 25,
   "id": "3b85f1b0-2077-4a65-83e8-962d497e21d9",
   "metadata": {},
   "outputs": [
    {
     "name": "stdout",
     "output_type": "stream",
     "text": [
      "\n",
      "\n",
      "Diamonds King\n",
      "Hearts King\n",
      "Diamonds Ace\n",
      "Diamonds Queen\n",
      "Clubs King\n",
      "\n",
      "\n",
      "Clubs 10\n",
      "Hearts Ace\n",
      "Clubs 9\n",
      "Spades Queen\n",
      "Diamonds Jack\n",
      "\n",
      "\n"
     ]
    },
    {
     "name": "stdin",
     "output_type": "stream",
     "text": [
      "Which card would you like to place down?:  3\n"
     ]
    },
    {
     "name": "stdout",
     "output_type": "stream",
     "text": [
      "Clubs 9\n"
     ]
    }
   ],
   "source": [
    "import random\n",
    "\n",
    "class Card:\n",
    "    def __init__(self, suit, value):\n",
    "        self.suit = suit\n",
    "        self.value = value\n",
    "\n",
    "    \n",
    "    def show_card(self):\n",
    "        print(self.suit, self.value)\n",
    "\n",
    "\n",
    "class Deck:\n",
    "    def __init__(self, game):\n",
    "        self.deck = []\n",
    "        self.game = game\n",
    "\n",
    "    \n",
    "    def create_deck(self):\n",
    "        if self.game.lower() == \"euchre\":\n",
    "            suits = [\"Clubs\", \"Diamonds\", \"Spades\", \"Hearts\"]\n",
    "            values = [\"King\", \"Queen\", \"Jack\", \"10\", \"9\", \"Ace\"]\n",
    "            for i in range(len(suits)):\n",
    "                for j in range(len(values)):\n",
    "                    new_card = Card(suits[i], values[j])\n",
    "                    self.deck.append(new_card)\n",
    "                    \n",
    "        return self.deck\n",
    "\n",
    "    \n",
    "    def shuffle(self):\n",
    "        if len(self.deck) == 0:\n",
    "            self.deck = Deck(self.game).create_deck()\n",
    "        temp_deck = self.deck.copy()\n",
    "        self.deck = []\n",
    "\n",
    "        while(len(temp_deck) != 0):\n",
    "            shuffle_index = random.randint(0,len(temp_deck)-1)\n",
    "            \n",
    "            self.deck.append(temp_deck[shuffle_index])\n",
    "            temp_deck.pop(shuffle_index)\n",
    "\n",
    "        return self.deck\n",
    "\n",
    "        \n",
    "    def deal_cards(self):\n",
    "        deck1 = Deck(self.game)\n",
    "        deck2 = Deck(self.game)\n",
    "        deck3 = Deck(self.game)\n",
    "        deck4 = Deck(self.game)\n",
    "        decks = [deck1, deck2, deck3, deck4]\n",
    "        \n",
    "        self.deck = Deck(self.game).shuffle()\n",
    "\n",
    "        while(len(self.deck) != 4):\n",
    "            for i in range(len(decks)):\n",
    "                decks[i].add_card(self.deck[0])\n",
    "                self.deck.pop(0)\n",
    "\n",
    "        return deck1, deck2, deck3, deck4\n",
    "\n",
    "\n",
    "    def add_card(self, card):\n",
    "        self.deck.append(card)\n",
    "            \n",
    "\n",
    "    def reveal_cards(self):\n",
    "        for card in self.deck:\n",
    "            card.show_card()\n",
    "\n",
    "    def place_card(self, index):\n",
    "        try:\n",
    "            self.deck[index].show_card()\n",
    "            self.deck.pop(index)\n",
    "        except Exception as e:\n",
    "            print(e.args[0])\n",
    "\n",
    "\n",
    "new_deck = Deck(\"Euchre\")\n",
    "deck1, deck2, deck3, deck4 = new_deck.deal_cards()\n",
    "print(\"\\n\")\n",
    "deck1.reveal_cards()\n",
    "print(\"\\n\")\n",
    "deck2.reveal_cards()\n",
    "print(\"\\n\")\n",
    "index = int(input(\"Which card would you like to place down?: \"))\n",
    "deck2.place_card(index-1)"
   ]
  },
  {
   "cell_type": "code",
   "execution_count": null,
   "id": "6494809c-ef60-4719-866c-5cf2ad69993d",
   "metadata": {},
   "outputs": [],
   "source": []
  }
 ],
 "metadata": {
  "kernelspec": {
   "display_name": "Python 3 (ipykernel)",
   "language": "python",
   "name": "python3"
  },
  "language_info": {
   "codemirror_mode": {
    "name": "ipython",
    "version": 3
   },
   "file_extension": ".py",
   "mimetype": "text/x-python",
   "name": "python",
   "nbconvert_exporter": "python",
   "pygments_lexer": "ipython3",
   "version": "3.10.8"
  }
 },
 "nbformat": 4,
 "nbformat_minor": 5
}
